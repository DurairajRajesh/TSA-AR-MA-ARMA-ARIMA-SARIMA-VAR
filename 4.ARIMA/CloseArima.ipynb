{
 "cells": [
  {
   "cell_type": "code",
   "execution_count": 1,
   "id": "58daf75a",
   "metadata": {},
   "outputs": [],
   "source": [
    "import pandas as pd"
   ]
  },
  {
   "cell_type": "code",
   "execution_count": 2,
   "id": "3c164e47",
   "metadata": {},
   "outputs": [],
   "source": [
    "#https://machinelearningmastery.com/time-series-forecasting-methods-in-python-cheat-sheet/"
   ]
  },
  {
   "cell_type": "code",
   "execution_count": 3,
   "id": "d46d5e10",
   "metadata": {},
   "outputs": [],
   "source": [
    "from nsepy import get_history as gh\n",
    "import datetime as dt"
   ]
  },
  {
   "cell_type": "code",
   "execution_count": 25,
   "id": "2f08622e",
   "metadata": {},
   "outputs": [
    {
     "data": {
      "text/plain": [
       "\"start = dt.datetime(2021,9,1)\\nend = dt.datetime(2022,2,4)\\nstk_data = gh(symbol='TATACOFFEE',start=start,end=end)\""
      ]
     },
     "execution_count": 25,
     "metadata": {},
     "output_type": "execute_result"
    }
   ],
   "source": [
    "\"\"\"start = dt.datetime(2021,9,1)\n",
    "end = dt.datetime(2022,2,4)\n",
    "stk_data = gh(symbol='TATACOFFEE',start=start,end=end)\"\"\""
   ]
  },
  {
   "cell_type": "code",
   "execution_count": 5,
   "id": "7c2e51b8-9071-419f-8288-41c16a81bd4b",
   "metadata": {},
   "outputs": [],
   "source": [
    "dataset=pd.read_csv(\"Tatacoffee13_21.csv\", parse_dates=['Date'], index_col='Date')"
   ]
  },
  {
   "cell_type": "code",
   "execution_count": 6,
   "id": "126dd9c6-734e-4a96-8695-c496f11600d5",
   "metadata": {},
   "outputs": [],
   "source": [
    "#Start date and end_date\n",
    "from datetime import date, timedelta\n",
    "import pandas as pd\n",
    "start_date = pd.to_datetime(\"2013-01-01\")\n",
    "end_date = pd.to_datetime(\"2019-02-04\") - timedelta(days=1) #Excluding last\n",
    "\n",
    "#List of all dates\n",
    "all_date = pd.date_range(start_date, end_date, freq='d')"
   ]
  },
  {
   "cell_type": "code",
   "execution_count": 7,
   "id": "2d5d9cce-9998-42a3-8e65-fe2a31583b6c",
   "metadata": {},
   "outputs": [],
   "source": [
    "stk_data=dataset\n",
    "stk_data.index=all_date"
   ]
  },
  {
   "cell_type": "code",
   "execution_count": 8,
   "id": "0eda0f6b-0033-4e70-8569-92949f428a3d",
   "metadata": {},
   "outputs": [
    {
     "data": {
      "text/html": [
       "<div>\n",
       "<style scoped>\n",
       "    .dataframe tbody tr th:only-of-type {\n",
       "        vertical-align: middle;\n",
       "    }\n",
       "\n",
       "    .dataframe tbody tr th {\n",
       "        vertical-align: top;\n",
       "    }\n",
       "\n",
       "    .dataframe thead th {\n",
       "        text-align: right;\n",
       "    }\n",
       "</style>\n",
       "<table border=\"1\" class=\"dataframe\">\n",
       "  <thead>\n",
       "    <tr style=\"text-align: right;\">\n",
       "      <th></th>\n",
       "      <th>Open</th>\n",
       "      <th>High</th>\n",
       "      <th>Low</th>\n",
       "      <th>Close</th>\n",
       "    </tr>\n",
       "  </thead>\n",
       "  <tbody>\n",
       "    <tr>\n",
       "      <th>2013-01-01</th>\n",
       "      <td>1410.60</td>\n",
       "      <td>1427.90</td>\n",
       "      <td>1408.30</td>\n",
       "      <td>1415.10</td>\n",
       "    </tr>\n",
       "    <tr>\n",
       "      <th>2013-01-02</th>\n",
       "      <td>1421.00</td>\n",
       "      <td>1626.60</td>\n",
       "      <td>1416.15</td>\n",
       "      <td>1607.40</td>\n",
       "    </tr>\n",
       "    <tr>\n",
       "      <th>2013-01-03</th>\n",
       "      <td>1632.55</td>\n",
       "      <td>1673.90</td>\n",
       "      <td>1613.05</td>\n",
       "      <td>1626.20</td>\n",
       "    </tr>\n",
       "    <tr>\n",
       "      <th>2013-01-04</th>\n",
       "      <td>1627.75</td>\n",
       "      <td>1627.75</td>\n",
       "      <td>1574.60</td>\n",
       "      <td>1579.05</td>\n",
       "    </tr>\n",
       "    <tr>\n",
       "      <th>2013-01-05</th>\n",
       "      <td>1580.00</td>\n",
       "      <td>1639.50</td>\n",
       "      <td>1565.50</td>\n",
       "      <td>1595.65</td>\n",
       "    </tr>\n",
       "    <tr>\n",
       "      <th>...</th>\n",
       "      <td>...</td>\n",
       "      <td>...</td>\n",
       "      <td>...</td>\n",
       "      <td>...</td>\n",
       "    </tr>\n",
       "    <tr>\n",
       "      <th>2019-01-30</th>\n",
       "      <td>202.90</td>\n",
       "      <td>207.80</td>\n",
       "      <td>201.35</td>\n",
       "      <td>205.00</td>\n",
       "    </tr>\n",
       "    <tr>\n",
       "      <th>2019-01-31</th>\n",
       "      <td>206.00</td>\n",
       "      <td>206.85</td>\n",
       "      <td>202.05</td>\n",
       "      <td>202.95</td>\n",
       "    </tr>\n",
       "    <tr>\n",
       "      <th>2019-02-01</th>\n",
       "      <td>203.90</td>\n",
       "      <td>203.90</td>\n",
       "      <td>199.35</td>\n",
       "      <td>201.00</td>\n",
       "    </tr>\n",
       "    <tr>\n",
       "      <th>2019-02-02</th>\n",
       "      <td>200.00</td>\n",
       "      <td>222.00</td>\n",
       "      <td>196.00</td>\n",
       "      <td>218.35</td>\n",
       "    </tr>\n",
       "    <tr>\n",
       "      <th>2019-02-03</th>\n",
       "      <td>219.65</td>\n",
       "      <td>220.45</td>\n",
       "      <td>211.55</td>\n",
       "      <td>212.35</td>\n",
       "    </tr>\n",
       "  </tbody>\n",
       "</table>\n",
       "<p>2225 rows × 4 columns</p>\n",
       "</div>"
      ],
      "text/plain": [
       "               Open     High      Low    Close\n",
       "2013-01-01  1410.60  1427.90  1408.30  1415.10\n",
       "2013-01-02  1421.00  1626.60  1416.15  1607.40\n",
       "2013-01-03  1632.55  1673.90  1613.05  1626.20\n",
       "2013-01-04  1627.75  1627.75  1574.60  1579.05\n",
       "2013-01-05  1580.00  1639.50  1565.50  1595.65\n",
       "...             ...      ...      ...      ...\n",
       "2019-01-30   202.90   207.80   201.35   205.00\n",
       "2019-01-31   206.00   206.85   202.05   202.95\n",
       "2019-02-01   203.90   203.90   199.35   201.00\n",
       "2019-02-02   200.00   222.00   196.00   218.35\n",
       "2019-02-03   219.65   220.45   211.55   212.35\n",
       "\n",
       "[2225 rows x 4 columns]"
      ]
     },
     "execution_count": 8,
     "metadata": {},
     "output_type": "execute_result"
    }
   ],
   "source": [
    "stk_data"
   ]
  },
  {
   "cell_type": "code",
   "execution_count": 9,
   "id": "523a1263",
   "metadata": {},
   "outputs": [],
   "source": [
    "stk_data=stk_data[[\"Open\",\"High\",\"Low\",\"Close\"]]\n",
    "#stk_data.to_csv(\"Tatacoffee13_21.csv\")"
   ]
  },
  {
   "cell_type": "code",
   "execution_count": 21,
   "id": "306b198f",
   "metadata": {},
   "outputs": [
    {
     "name": "stdout",
     "output_type": "stream",
     "text": [
      "Len: (2225, 1)\n"
     ]
    }
   ],
   "source": [
    "from sklearn.preprocessing import MinMaxScaler\n",
    "Ms = MinMaxScaler()\n",
    "data1= Ms.fit_transform(stk_data[[\"Close\"]])\n",
    "print(\"Len:\",data1.shape)"
   ]
  },
  {
   "cell_type": "code",
   "execution_count": 27,
   "id": "a9ed1a1e",
   "metadata": {},
   "outputs": [
    {
     "data": {
      "text/plain": [
       "'from statsmodels.tsa.arima.model import ARIMA\\nmodel = ARIMA(data1, order=(1,1,1))#Autoregressive Integrated Moving Average (ARIMA)\\nmodel_fit = model.fit()\\n# make prediction\\ny_pred= model_fit.predict(len(stk_data), len(stk_data)-1)\\nprint(y_pred)\\nfrom stockFunctions import rmsemape\\nrmsemape(stkk,predicted_stock_price_test_oriP[\"Open\"])'"
      ]
     },
     "execution_count": 27,
     "metadata": {},
     "output_type": "execute_result"
    }
   ],
   "source": [
    "\"\"\"from statsmodels.tsa.arima.model import ARIMA\n",
    "model = ARIMA(data1, order=(1,1,1))#Autoregressive Integrated Moving Average (ARIMA)\n",
    "model_fit = model.fit()\n",
    "# make prediction\n",
    "y_pred= model_fit.predict(len(stk_data), len(stk_data)-1)\n",
    "print(y_pred)\n",
    "from stockFunctions import rmsemape\n",
    "rmsemape(stkk,predicted_stock_price_test_oriP[\"Open\"])\"\"\""
   ]
  },
  {
   "cell_type": "code",
   "execution_count": 29,
   "id": "b062641c",
   "metadata": {},
   "outputs": [
    {
     "name": "stderr",
     "output_type": "stream",
     "text": [
      "C:\\Anaconda\\lib\\site-packages\\sklearn\\metrics\\_regression.py:492: FutureWarning: 'squared' is deprecated in version 1.4 and will be removed in 1.6. To calculate the root mean squared error, use the function'root_mean_squared_error'.\n",
      "  warnings.warn(\n"
     ]
    },
    {
     "name": "stdout",
     "output_type": "stream",
     "text": [
      "RMSE-Testset: 0.022885945657751552\n",
      "maPe-Testset: 2377524855.6754375\n"
     ]
    },
    {
     "name": "stderr",
     "output_type": "stream",
     "text": [
      "C:\\Anaconda\\lib\\site-packages\\sklearn\\metrics\\_regression.py:492: FutureWarning: 'squared' is deprecated in version 1.4 and will be removed in 1.6. To calculate the root mean squared error, use the function'root_mean_squared_error'.\n",
      "  warnings.warn(\n"
     ]
    },
    {
     "name": "stdout",
     "output_type": "stream",
     "text": [
      "RMSE-Testset: 0.02288520287842375\n",
      "maPe-Testset: 2415748572.752481\n"
     ]
    },
    {
     "name": "stderr",
     "output_type": "stream",
     "text": [
      "C:\\Anaconda\\lib\\site-packages\\statsmodels\\base\\model.py:607: ConvergenceWarning: Maximum Likelihood optimization failed to converge. Check mle_retvals\n",
      "  warnings.warn(\"Maximum Likelihood optimization failed to \"\n",
      "C:\\Anaconda\\lib\\site-packages\\sklearn\\metrics\\_regression.py:492: FutureWarning: 'squared' is deprecated in version 1.4 and will be removed in 1.6. To calculate the root mean squared error, use the function'root_mean_squared_error'.\n",
      "  warnings.warn(\n"
     ]
    },
    {
     "name": "stdout",
     "output_type": "stream",
     "text": [
      "RMSE-Testset: 0.028959902699261523\n",
      "maPe-Testset: 1548244557.4643493\n",
      "RMSE-Testset: 0.023889336123204107\n",
      "maPe-Testset: 1849452483.8888142\n"
     ]
    },
    {
     "name": "stderr",
     "output_type": "stream",
     "text": [
      "C:\\Anaconda\\lib\\site-packages\\sklearn\\metrics\\_regression.py:492: FutureWarning: 'squared' is deprecated in version 1.4 and will be removed in 1.6. To calculate the root mean squared error, use the function'root_mean_squared_error'.\n",
      "  warnings.warn(\n"
     ]
    }
   ],
   "source": [
    "orders=[(1,1,1),(1,1,2),(2,3,1),(2,2,2)]\n",
    "#orderslist=[]\n",
    "#rscorelist=[]\n",
    "for i in orders:\n",
    "    #orderslist.append(i)\n",
    "    from statsmodels.tsa.arima.model import ARIMA\n",
    "    model = ARIMA(data1, order=i)\n",
    "    model_fit = model.fit()\n",
    "    # make prediction\n",
    "    y_pred= model_fit.predict(0, len(data1)-1)\n",
    "    #print(y_pred)\n",
    "    from stockFunctions import rmsemape\n",
    "    rmsemape(data1,y_pred)\n",
    "    "
   ]
  },
  {
   "cell_type": "code",
   "execution_count": 31,
   "id": "622a9413",
   "metadata": {},
   "outputs": [
    {
     "data": {
      "image/png": "[encoded data removed]",
      "text/plain": [
       "<Figure size 1000x500 with 1 Axes>"
      ]
     },
     "metadata": {},
     "output_type": "display_data"
    }
   ],
   "source": [
    "from stockFunctions import graph\n",
    "graph(data1,y_pred,\"Actual\",\"Predicted\",\"TataCoffee-Close\",\"Days\",\"Prices\")"
   ]
  },
  {
   "cell_type": "code",
   "execution_count": 33,
   "id": "6dccfa6d",
   "metadata": {},
   "outputs": [
    {
     "data": {
      "text/plain": [
       "2225"
      ]
     },
     "execution_count": 33,
     "metadata": {},
     "output_type": "execute_result"
    }
   ],
   "source": [
    "len(data1)"
   ]
  },
  {
   "cell_type": "code",
   "execution_count": 35,
   "id": "b85256ab",
   "metadata": {},
   "outputs": [],
   "source": [
    "from stockFunctions import conversionSingle\n",
    "aTestNormTable=conversionSingle(data1,[\"Close\"])\n",
    "actual_stock_price_test_ori=Ms.inverse_transform(aTestNormTable)\n",
    "actual_stock_price_test_oriA=conversionSingle(actual_stock_price_test_ori,[\"Close\"])"
   ]
  },
  {
   "cell_type": "code",
   "execution_count": 37,
   "id": "5333826b",
   "metadata": {},
   "outputs": [],
   "source": [
    "from stockFunctions import conversionSingle\n",
    "pTestNormTable=conversionSingle(y_pred,[\"Close\"])\n",
    "predicted_stock_price_test_ori=Ms.inverse_transform(pTestNormTable)\n",
    "predicted_stock_price_test_oriP=conversionSingle(predicted_stock_price_test_ori,[\"Close\"])"
   ]
  },
  {
   "cell_type": "code",
   "execution_count": 39,
   "id": "c548033b",
   "metadata": {},
   "outputs": [
    {
     "data": {
      "image/png": "[encoded data removed]",
      "text/plain": [
       "<Figure size 1000x500 with 1 Axes>"
      ]
     },
     "metadata": {},
     "output_type": "display_data"
    }
   ],
   "source": [
    "from stockFunctions import graph\n",
    "graph(actual_stock_price_test_oriA,predicted_stock_price_test_oriP,\"Actual\",\"Predicted\",\"TataCoffee-CLose\",\"Days\",\"Prices\")"
   ]
  },
  {
   "cell_type": "code",
   "execution_count": 41,
   "id": "624f4cef",
   "metadata": {},
   "outputs": [
    {
     "name": "stdout",
     "output_type": "stream",
     "text": [
      "RMSE-Testset: 38.194270593778725\n",
      "maPe-Testset: 0.021598333274315352\n"
     ]
    },
    {
     "name": "stderr",
     "output_type": "stream",
     "text": [
      "C:\\Anaconda\\lib\\site-packages\\sklearn\\metrics\\_regression.py:492: FutureWarning: 'squared' is deprecated in version 1.4 and will be removed in 1.6. To calculate the root mean squared error, use the function'root_mean_squared_error'.\n",
      "  warnings.warn(\n"
     ]
    }
   ],
   "source": [
    "from stockFunctions import rmsemape\n",
    "rmsemape(actual_stock_price_test_oriA,predicted_stock_price_test_oriP)"
   ]
  },
  {
   "cell_type": "code",
   "execution_count": 43,
   "id": "4c939f43",
   "metadata": {},
   "outputs": [],
   "source": [
    "forecast=model_fit.predict(len(data1), len(data1)+3)"
   ]
  },
  {
   "cell_type": "code",
   "execution_count": 45,
   "id": "cd463811",
   "metadata": {},
   "outputs": [
    {
     "data": {
      "text/plain": [
       "array([0.10174644, 0.10167909, 0.10167499, 0.10161921])"
      ]
     },
     "execution_count": 45,
     "metadata": {},
     "output_type": "execute_result"
    }
   ],
   "source": [
    "forecast"
   ]
  },
  {
   "cell_type": "code",
   "execution_count": 47,
   "id": "8f4b1d4f",
   "metadata": {},
   "outputs": [],
   "source": [
    "from stockFunctions import conversionSingle\n",
    "fTestNormTable=conversionSingle(forecast,[\"Closefore\"])\n",
    "forecast_stock_price_test_ori=Ms.inverse_transform(fTestNormTable)\n",
    "forecast_stock_price_test_oriF=conversionSingle(forecast_stock_price_test_ori,[\"Closefore\"])"
   ]
  },
  {
   "cell_type": "code",
   "execution_count": 49,
   "id": "9cd43e06",
   "metadata": {},
   "outputs": [],
   "source": [
    "forecast_stock_price_test_oriF.to_csv(\"Closets.csv\",index=False)"
   ]
  },
  {
   "cell_type": "code",
   "execution_count": 51,
   "id": "52b69d4f",
   "metadata": {},
   "outputs": [
    {
     "data": {
      "text/html": [
       "<div>\n",
       "<style scoped>\n",
       "    .dataframe tbody tr th:only-of-type {\n",
       "        vertical-align: middle;\n",
       "    }\n",
       "\n",
       "    .dataframe tbody tr th {\n",
       "        vertical-align: top;\n",
       "    }\n",
       "\n",
       "    .dataframe thead th {\n",
       "        text-align: right;\n",
       "    }\n",
       "</style>\n",
       "<table border=\"1\" class=\"dataframe\">\n",
       "  <thead>\n",
       "    <tr style=\"text-align: right;\">\n",
       "      <th></th>\n",
       "      <th>Closefore</th>\n",
       "    </tr>\n",
       "  </thead>\n",
       "  <tbody>\n",
       "    <tr>\n",
       "      <th>0</th>\n",
       "      <td>212.072205</td>\n",
       "    </tr>\n",
       "    <tr>\n",
       "      <th>1</th>\n",
       "      <td>211.964527</td>\n",
       "    </tr>\n",
       "    <tr>\n",
       "      <th>2</th>\n",
       "      <td>211.957971</td>\n",
       "    </tr>\n",
       "    <tr>\n",
       "      <th>3</th>\n",
       "      <td>211.868795</td>\n",
       "    </tr>\n",
       "  </tbody>\n",
       "</table>\n",
       "</div>"
      ],
      "text/plain": [
       "    Closefore\n",
       "0  212.072205\n",
       "1  211.964527\n",
       "2  211.957971\n",
       "3  211.868795"
      ]
     },
     "execution_count": 51,
     "metadata": {},
     "output_type": "execute_result"
    }
   ],
   "source": [
    "forecast_stock_price_test_oriF"
   ]
  },
  {
   "cell_type": "code",
   "execution_count": null,
   "id": "bdf37ee5",
   "metadata": {},
   "outputs": [],
   "source": []
  }
 ],
 "metadata": {
  "kernelspec": {
   "display_name": "Python 3 (ipykernel)",
   "language": "python",
   "name": "python3"
  },
  "language_info": {
   "codemirror_mode": {
    "name": "ipython",
    "version": 3
   },
   "file_extension": ".py",
   "mimetype": "text/x-python",
   "name": "python",
   "nbconvert_exporter": "python",
   "pygments_lexer": "ipython3",
   "version": "3.10.15"
  }
 },
 "nbformat": 4,
 "nbformat_minor": 5
}
