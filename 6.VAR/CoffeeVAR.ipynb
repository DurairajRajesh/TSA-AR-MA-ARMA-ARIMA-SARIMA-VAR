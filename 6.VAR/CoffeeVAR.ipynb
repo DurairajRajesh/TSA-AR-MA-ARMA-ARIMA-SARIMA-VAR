{
 "cells": [
  {
   "cell_type": "code",
   "execution_count": 1,
   "id": "48173d86",
   "metadata": {},
   "outputs": [],
   "source": [
    "import pandas as pd"
   ]
  },
  {
   "cell_type": "code",
   "execution_count": 2,
   "id": "fc3f9a19",
   "metadata": {},
   "outputs": [],
   "source": [
    "from nsepy import get_history as gh\n",
    "import datetime as dt"
   ]
  },
  {
   "cell_type": "code",
   "execution_count": 3,
   "id": "ffa2740a",
   "metadata": {},
   "outputs": [
    {
     "data": {
      "text/plain": [
       "\"start = dt.datetime(2013,6,1)\\nend = dt.datetime(2022,2,11)\\nstk_data = gh(symbol='TATACOFFEE',start=start,end=end)\""
      ]
     },
     "execution_count": 3,
     "metadata": {},
     "output_type": "execute_result"
    }
   ],
   "source": [
    "\"\"\"start = dt.datetime(2013,6,1)\n",
    "end = dt.datetime(2022,2,11)\n",
    "stk_data = gh(symbol='TATACOFFEE',start=start,end=end)\"\"\"\n"
   ]
  },
  {
   "cell_type": "code",
   "execution_count": 4,
   "id": "d9d0fda2-2c30-43ce-bd1f-7475cc4cb057",
   "metadata": {},
   "outputs": [
    {
     "data": {
      "text/html": [
       "<div>\n",
       "<style scoped>\n",
       "    .dataframe tbody tr th:only-of-type {\n",
       "        vertical-align: middle;\n",
       "    }\n",
       "\n",
       "    .dataframe tbody tr th {\n",
       "        vertical-align: top;\n",
       "    }\n",
       "\n",
       "    .dataframe thead th {\n",
       "        text-align: right;\n",
       "    }\n",
       "</style>\n",
       "<table border=\"1\" class=\"dataframe\">\n",
       "  <thead>\n",
       "    <tr style=\"text-align: right;\">\n",
       "      <th></th>\n",
       "      <th>Open</th>\n",
       "      <th>High</th>\n",
       "      <th>Low</th>\n",
       "      <th>Close</th>\n",
       "    </tr>\n",
       "  </thead>\n",
       "  <tbody>\n",
       "    <tr>\n",
       "      <th>2013-01-01</th>\n",
       "      <td>1410.60</td>\n",
       "      <td>1427.90</td>\n",
       "      <td>1408.30</td>\n",
       "      <td>1415.10</td>\n",
       "    </tr>\n",
       "    <tr>\n",
       "      <th>2013-01-02</th>\n",
       "      <td>1421.00</td>\n",
       "      <td>1626.60</td>\n",
       "      <td>1416.15</td>\n",
       "      <td>1607.40</td>\n",
       "    </tr>\n",
       "    <tr>\n",
       "      <th>2013-01-03</th>\n",
       "      <td>1632.55</td>\n",
       "      <td>1673.90</td>\n",
       "      <td>1613.05</td>\n",
       "      <td>1626.20</td>\n",
       "    </tr>\n",
       "    <tr>\n",
       "      <th>2013-01-04</th>\n",
       "      <td>1627.75</td>\n",
       "      <td>1627.75</td>\n",
       "      <td>1574.60</td>\n",
       "      <td>1579.05</td>\n",
       "    </tr>\n",
       "    <tr>\n",
       "      <th>2013-01-05</th>\n",
       "      <td>1580.00</td>\n",
       "      <td>1639.50</td>\n",
       "      <td>1565.50</td>\n",
       "      <td>1595.65</td>\n",
       "    </tr>\n",
       "    <tr>\n",
       "      <th>...</th>\n",
       "      <td>...</td>\n",
       "      <td>...</td>\n",
       "      <td>...</td>\n",
       "      <td>...</td>\n",
       "    </tr>\n",
       "    <tr>\n",
       "      <th>2019-01-30</th>\n",
       "      <td>202.90</td>\n",
       "      <td>207.80</td>\n",
       "      <td>201.35</td>\n",
       "      <td>205.00</td>\n",
       "    </tr>\n",
       "    <tr>\n",
       "      <th>2019-01-31</th>\n",
       "      <td>206.00</td>\n",
       "      <td>206.85</td>\n",
       "      <td>202.05</td>\n",
       "      <td>202.95</td>\n",
       "    </tr>\n",
       "    <tr>\n",
       "      <th>2019-02-01</th>\n",
       "      <td>203.90</td>\n",
       "      <td>203.90</td>\n",
       "      <td>199.35</td>\n",
       "      <td>201.00</td>\n",
       "    </tr>\n",
       "    <tr>\n",
       "      <th>2019-02-02</th>\n",
       "      <td>200.00</td>\n",
       "      <td>222.00</td>\n",
       "      <td>196.00</td>\n",
       "      <td>218.35</td>\n",
       "    </tr>\n",
       "    <tr>\n",
       "      <th>2019-02-03</th>\n",
       "      <td>219.65</td>\n",
       "      <td>220.45</td>\n",
       "      <td>211.55</td>\n",
       "      <td>212.35</td>\n",
       "    </tr>\n",
       "  </tbody>\n",
       "</table>\n",
       "<p>2225 rows × 4 columns</p>\n",
       "</div>"
      ],
      "text/plain": [
       "               Open     High      Low    Close\n",
       "2013-01-01  1410.60  1427.90  1408.30  1415.10\n",
       "2013-01-02  1421.00  1626.60  1416.15  1607.40\n",
       "2013-01-03  1632.55  1673.90  1613.05  1626.20\n",
       "2013-01-04  1627.75  1627.75  1574.60  1579.05\n",
       "2013-01-05  1580.00  1639.50  1565.50  1595.65\n",
       "...             ...      ...      ...      ...\n",
       "2019-01-30   202.90   207.80   201.35   205.00\n",
       "2019-01-31   206.00   206.85   202.05   202.95\n",
       "2019-02-01   203.90   203.90   199.35   201.00\n",
       "2019-02-02   200.00   222.00   196.00   218.35\n",
       "2019-02-03   219.65   220.45   211.55   212.35\n",
       "\n",
       "[2225 rows x 4 columns]"
      ]
     },
     "execution_count": 4,
     "metadata": {},
     "output_type": "execute_result"
    }
   ],
   "source": [
    "dataset=pd.read_csv(\"Tatacoffee13_21.csv\", parse_dates=['Date'], index_col='Date')\n",
    "\n",
    "#Start date and end_date\n",
    "from datetime import date, timedelta\n",
    "import pandas as pd\n",
    "start_date = pd.to_datetime(\"2013-01-01\")\n",
    "end_date = pd.to_datetime(\"2019-02-04\") - timedelta(days=1) #Excluding last\n",
    "\n",
    "#List of all dates\n",
    "all_date = pd.date_range(start_date, end_date, freq='d')\n",
    "\n",
    "stk_data=dataset\n",
    "stk_data.index=all_date\n",
    "\n",
    "stk_data"
   ]
  },
  {
   "cell_type": "code",
   "execution_count": 5,
   "id": "f5e21aa3",
   "metadata": {},
   "outputs": [],
   "source": [
    "stk_data=stk_data[[\"Open\",\"High\",\"Low\",\"Close\"]]\n",
    "#stk_data.to_csv(\"Tatacoffee13_21.csv\")"
   ]
  },
  {
   "cell_type": "code",
   "execution_count": 6,
   "id": "c7225240",
   "metadata": {},
   "outputs": [],
   "source": [
    "#column=\"Close\""
   ]
  },
  {
   "cell_type": "code",
   "execution_count": 7,
   "id": "7ad5ebcf",
   "metadata": {},
   "outputs": [
    {
     "name": "stdout",
     "output_type": "stream",
     "text": [
      "Len: (2225, 4)\n"
     ]
    }
   ],
   "source": [
    "from sklearn.preprocessing import MinMaxScaler\n",
    "Ms = MinMaxScaler()\n",
    "data1= Ms.fit_transform(stk_data)\n",
    "print(\"Len:\",data1.shape)"
   ]
  },
  {
   "cell_type": "code",
   "execution_count": 8,
   "id": "b2b41235",
   "metadata": {},
   "outputs": [],
   "source": [
    "data1=pd.DataFrame(data1,columns=[\"Open\",\"High\",\"Low\",\"Close\"])"
   ]
  },
  {
   "cell_type": "code",
   "execution_count": 9,
   "id": "79c8b1d5",
   "metadata": {},
   "outputs": [
    {
     "name": "stdout",
     "output_type": "stream",
     "text": [
      "1780\n",
      "X_train length: (1780, 4)\n",
      "X_test length: (445, 4)\n",
      "y_train length: (1780, 4)\n",
      "y_test length: (445, 4)\n"
     ]
    }
   ],
   "source": [
    "training_size = round(len(data1 ) * 0.80)\n",
    "print(training_size)\n",
    "X_train=data1[:training_size]\n",
    "X_test=data1[training_size:]\n",
    "print(\"X_train length:\",X_train.shape)\n",
    "print(\"X_test length:\",X_test.shape)\n",
    "y_train=data1[:training_size]\n",
    "y_test=data1[training_size:]\n",
    "print(\"y_train length:\",y_train.shape)\n",
    "print(\"y_test length:\",y_test.shape)"
   ]
  },
  {
   "cell_type": "code",
   "execution_count": 10,
   "id": "466d94f9",
   "metadata": {},
   "outputs": [],
   "source": [
    "import warnings\n",
    "warnings.filterwarnings(\"ignore\")"
   ]
  },
  {
   "cell_type": "code",
   "execution_count": 11,
   "id": "4df2eaa9",
   "metadata": {},
   "outputs": [],
   "source": [
    "performance={\"Model\":[],\"RMSE\":[],\"MaPe\":[],\"Lag\":[],\"Test\":[]}"
   ]
  },
  {
   "cell_type": "code",
   "execution_count": 12,
   "id": "3b6caee0",
   "metadata": {},
   "outputs": [],
   "source": [
    "def cominbation(dataset,listt):\n",
    "    print(listt)\n",
    "    datasetTwo=dataset[listt]\n",
    "    test_obs = 28\n",
    "    train =datasetTwo[:-test_obs]\n",
    "    test = datasetTwo[-test_obs:]\n",
    "    from statsmodels.tsa.api import VAR\n",
    "    for i in [1,2,3,4,5,6,7,8,9,10]:\n",
    "        model = VAR(train)\n",
    "        results = model.fit(i)\n",
    "        print('Order =', i)\n",
    "        print('AIC: ', results.aic)\n",
    "        print('BIC: ', results.bic)\n",
    "        print()\n",
    "    x = model.select_order(maxlags=12)\n",
    "    order=x.selected_orders[\"aic\"]\n",
    "    result = model.fit(order)\n",
    "    #result.summary()\n",
    "    lagged_Values = train.values[-order:]\n",
    "    pred = result.forecast(y=lagged_Values,steps=28) \n",
    "    preds=pd.DataFrame(pred,columns=listt)\n",
    "    preds.to_csv(\"varforecasted_{}.csv\".format(test_obs))\n",
    "    from sklearn.metrics import mean_squared_error\n",
    "    rmse= round(mean_squared_error(test,pred,squared=False))\n",
    "    from sklearn.metrics import mean_absolute_percentage_error\n",
    "    mape=mean_absolute_percentage_error(test,pred)\n",
    "    performance[\"Model\"].append(listt)\n",
    "    performance[\"RMSE\"].append(rmse)\n",
    "    performance[\"MaPe\"].append(mape)\n",
    "    performance[\"Lag\"].append(order)\n",
    "    performance[\"Test\"].append(test_obs)\n",
    "    perf=pd.DataFrame(performance)\n",
    "    return perf,result,pred"
   ]
  },
  {
   "cell_type": "code",
   "execution_count": 13,
   "id": "1ca74337",
   "metadata": {},
   "outputs": [],
   "source": [
    "listt=[\"Close\",\"High\",\"Open\",\"Low\"]\n",
    "#listt=[\"AQI_calculated\",\"PM10\",\"PM2.5\",\"NOx\",\"NO2\",\"NO\",\"NH3\",\"SO2\",\"CO\",'year']\n"
   ]
  },
  {
   "cell_type": "code",
   "execution_count": 14,
   "id": "3294031a",
   "metadata": {},
   "outputs": [
    {
     "name": "stdout",
     "output_type": "stream",
     "text": [
      "['Close', 'High', 'Open', 'Low']\n",
      "Order = 1\n",
      "AIC:  -41.576332503726654\n",
      "BIC:  -41.52447100279196\n",
      "\n",
      "Order = 2\n",
      "AIC:  -41.8996567598384\n",
      "BIC:  -41.80627099960226\n",
      "\n",
      "Order = 3\n",
      "AIC:  -41.89668108122695\n",
      "BIC:  -41.76173985728738\n",
      "\n",
      "Order = 4\n",
      "AIC:  -41.895561823716704\n",
      "BIC:  -41.7190338935332\n",
      "\n",
      "Order = 5\n",
      "AIC:  -41.9246166173129\n",
      "BIC:  -41.70647070014241\n",
      "\n",
      "Order = 6\n",
      "AIC:  -42.00676954931895\n",
      "BIC:  -41.74697432615166\n",
      "\n",
      "Order = 7\n",
      "AIC:  -42.063048592450706\n",
      "BIC:  -41.761572705945674\n",
      "\n",
      "Order = 8\n",
      "AIC:  -42.058911836473904\n",
      "BIC:  -41.71572389089464\n",
      "\n",
      "Order = 9\n",
      "AIC:  -42.07506774212317\n",
      "BIC:  -41.690136303272986\n",
      "\n",
      "Order = 10\n",
      "AIC:  -42.096303169891954\n",
      "BIC:  -41.66959676504925\n",
      "\n"
     ]
    }
   ],
   "source": [
    "perf,result,pred=cominbation(data1,listt)"
   ]
  },
  {
   "cell_type": "code",
   "execution_count": 15,
   "id": "43375522",
   "metadata": {},
   "outputs": [
    {
     "data": {
      "text/html": [
       "<div>\n",
       "<style scoped>\n",
       "    .dataframe tbody tr th:only-of-type {\n",
       "        vertical-align: middle;\n",
       "    }\n",
       "\n",
       "    .dataframe tbody tr th {\n",
       "        vertical-align: top;\n",
       "    }\n",
       "\n",
       "    .dataframe thead th {\n",
       "        text-align: right;\n",
       "    }\n",
       "</style>\n",
       "<table border=\"1\" class=\"dataframe\">\n",
       "  <thead>\n",
       "    <tr style=\"text-align: right;\">\n",
       "      <th></th>\n",
       "      <th>Open</th>\n",
       "      <th>High</th>\n",
       "      <th>Low</th>\n",
       "      <th>Close</th>\n",
       "    </tr>\n",
       "  </thead>\n",
       "  <tbody>\n",
       "    <tr>\n",
       "      <th>0</th>\n",
       "      <td>0.849900</td>\n",
       "      <td>0.845408</td>\n",
       "      <td>0.856100</td>\n",
       "      <td>0.854203</td>\n",
       "    </tr>\n",
       "    <tr>\n",
       "      <th>1</th>\n",
       "      <td>0.856394</td>\n",
       "      <td>0.967399</td>\n",
       "      <td>0.861040</td>\n",
       "      <td>0.974481</td>\n",
       "    </tr>\n",
       "    <tr>\n",
       "      <th>2</th>\n",
       "      <td>0.988480</td>\n",
       "      <td>0.996439</td>\n",
       "      <td>0.984959</td>\n",
       "      <td>0.986240</td>\n",
       "    </tr>\n",
       "    <tr>\n",
       "      <th>3</th>\n",
       "      <td>0.985483</td>\n",
       "      <td>0.968105</td>\n",
       "      <td>0.960760</td>\n",
       "      <td>0.956749</td>\n",
       "    </tr>\n",
       "    <tr>\n",
       "      <th>4</th>\n",
       "      <td>0.955669</td>\n",
       "      <td>0.975319</td>\n",
       "      <td>0.955033</td>\n",
       "      <td>0.967132</td>\n",
       "    </tr>\n",
       "    <tr>\n",
       "      <th>...</th>\n",
       "      <td>...</td>\n",
       "      <td>...</td>\n",
       "      <td>...</td>\n",
       "      <td>...</td>\n",
       "    </tr>\n",
       "    <tr>\n",
       "      <th>2220</th>\n",
       "      <td>0.095842</td>\n",
       "      <td>0.096329</td>\n",
       "      <td>0.096510</td>\n",
       "      <td>0.097323</td>\n",
       "    </tr>\n",
       "    <tr>\n",
       "      <th>2221</th>\n",
       "      <td>0.097777</td>\n",
       "      <td>0.095745</td>\n",
       "      <td>0.096951</td>\n",
       "      <td>0.096041</td>\n",
       "    </tr>\n",
       "    <tr>\n",
       "      <th>2222</th>\n",
       "      <td>0.096466</td>\n",
       "      <td>0.093934</td>\n",
       "      <td>0.095252</td>\n",
       "      <td>0.094821</td>\n",
       "    </tr>\n",
       "    <tr>\n",
       "      <th>2223</th>\n",
       "      <td>0.094031</td>\n",
       "      <td>0.105047</td>\n",
       "      <td>0.093143</td>\n",
       "      <td>0.105673</td>\n",
       "    </tr>\n",
       "    <tr>\n",
       "      <th>2224</th>\n",
       "      <td>0.106300</td>\n",
       "      <td>0.104095</td>\n",
       "      <td>0.102930</td>\n",
       "      <td>0.101920</td>\n",
       "    </tr>\n",
       "  </tbody>\n",
       "</table>\n",
       "<p>2225 rows × 4 columns</p>\n",
       "</div>"
      ],
      "text/plain": [
       "          Open      High       Low     Close\n",
       "0     0.849900  0.845408  0.856100  0.854203\n",
       "1     0.856394  0.967399  0.861040  0.974481\n",
       "2     0.988480  0.996439  0.984959  0.986240\n",
       "3     0.985483  0.968105  0.960760  0.956749\n",
       "4     0.955669  0.975319  0.955033  0.967132\n",
       "...        ...       ...       ...       ...\n",
       "2220  0.095842  0.096329  0.096510  0.097323\n",
       "2221  0.097777  0.095745  0.096951  0.096041\n",
       "2222  0.096466  0.093934  0.095252  0.094821\n",
       "2223  0.094031  0.105047  0.093143  0.105673\n",
       "2224  0.106300  0.104095  0.102930  0.101920\n",
       "\n",
       "[2225 rows x 4 columns]"
      ]
     },
     "execution_count": 15,
     "metadata": {},
     "output_type": "execute_result"
    }
   ],
   "source": [
    "data1"
   ]
  },
  {
   "cell_type": "code",
   "execution_count": 16,
   "id": "1ec452de",
   "metadata": {},
   "outputs": [
    {
     "data": {
      "text/html": [
       "<div>\n",
       "<style scoped>\n",
       "    .dataframe tbody tr th:only-of-type {\n",
       "        vertical-align: middle;\n",
       "    }\n",
       "\n",
       "    .dataframe tbody tr th {\n",
       "        vertical-align: top;\n",
       "    }\n",
       "\n",
       "    .dataframe thead th {\n",
       "        text-align: right;\n",
       "    }\n",
       "</style>\n",
       "<table border=\"1\" class=\"dataframe\">\n",
       "  <thead>\n",
       "    <tr style=\"text-align: right;\">\n",
       "      <th></th>\n",
       "      <th>Model</th>\n",
       "      <th>RMSE</th>\n",
       "      <th>MaPe</th>\n",
       "      <th>Lag</th>\n",
       "      <th>Test</th>\n",
       "    </tr>\n",
       "  </thead>\n",
       "  <tbody>\n",
       "    <tr>\n",
       "      <th>0</th>\n",
       "      <td>[Close, High, Open, Low]</td>\n",
       "      <td>0</td>\n",
       "      <td>0.088105</td>\n",
       "      <td>11</td>\n",
       "      <td>28</td>\n",
       "    </tr>\n",
       "  </tbody>\n",
       "</table>\n",
       "</div>"
      ],
      "text/plain": [
       "                      Model  RMSE      MaPe  Lag  Test\n",
       "0  [Close, High, Open, Low]     0  0.088105   11    28"
      ]
     },
     "execution_count": 16,
     "metadata": {},
     "output_type": "execute_result"
    }
   ],
   "source": [
    "perf"
   ]
  },
  {
   "cell_type": "code",
   "execution_count": null,
   "id": "8aae9795",
   "metadata": {},
   "outputs": [],
   "source": []
  }
 ],
 "metadata": {
  "kernelspec": {
   "display_name": "Python 3 (ipykernel)",
   "language": "python",
   "name": "python3"
  },
  "language_info": {
   "codemirror_mode": {
    "name": "ipython",
    "version": 3
   },
   "file_extension": ".py",
   "mimetype": "text/x-python",
   "name": "python",
   "nbconvert_exporter": "python",
   "pygments_lexer": "ipython3",
   "version": "3.10.15"
  }
 },
 "nbformat": 4,
 "nbformat_minor": 5
}
